{
  "nbformat": 4,
  "nbformat_minor": 0,
  "metadata": {
    "colab": {
      "provenance": []
    },
    "kernelspec": {
      "name": "python3",
      "display_name": "Python 3"
    },
    "language_info": {
      "name": "python"
    }
  },
  "cells": [
    {
      "cell_type": "code",
      "execution_count": 1,
      "metadata": {
        "colab": {
          "base_uri": "https://localhost:8080/",
          "height": 36
        },
        "id": "LXWZTBnG0qUA",
        "outputId": "7982e9c8-1eff-495a-eca2-a43335dc33e0"
      },
      "outputs": [
        {
          "output_type": "execute_result",
          "data": {
            "text/plain": [
              "'/content'"
            ],
            "application/vnd.google.colaboratory.intrinsic+json": {
              "type": "string"
            }
          },
          "metadata": {},
          "execution_count": 1
        }
      ],
      "source": [
        "pwd\n"
      ]
    },
    {
      "cell_type": "code",
      "source": [
        "!pip install keras==2.2.4\n",
        "!pip install tensorflow"
      ],
      "metadata": {
        "colab": {
          "base_uri": "https://localhost:8080/"
        },
        "id": "neWLhJm80wXI",
        "outputId": "acfd4f1e-4f09-460d-e4d6-f65013e825e3"
      },
      "execution_count": 2,
      "outputs": [
        {
          "output_type": "stream",
          "name": "stdout",
          "text": [
            "Looking in indexes: https://pypi.org/simple, https://us-python.pkg.dev/colab-wheels/public/simple/\n",
            "Collecting keras==2.2.4\n",
            "  Downloading Keras-2.2.4-py2.py3-none-any.whl (312 kB)\n",
            "\u001b[K     |████████████████████████████████| 312 kB 5.2 MB/s \n",
            "\u001b[?25hRequirement already satisfied: pyyaml in /usr/local/lib/python3.7/dist-packages (from keras==2.2.4) (6.0)\n",
            "Requirement already satisfied: numpy>=1.9.1 in /usr/local/lib/python3.7/dist-packages (from keras==2.2.4) (1.21.6)\n",
            "Requirement already satisfied: h5py in /usr/local/lib/python3.7/dist-packages (from keras==2.2.4) (3.1.0)\n",
            "Collecting keras-applications>=1.0.6\n",
            "  Downloading Keras_Applications-1.0.8-py3-none-any.whl (50 kB)\n",
            "\u001b[K     |████████████████████████████████| 50 kB 6.5 MB/s \n",
            "\u001b[?25hRequirement already satisfied: keras-preprocessing>=1.0.5 in /usr/local/lib/python3.7/dist-packages (from keras==2.2.4) (1.1.2)\n",
            "Requirement already satisfied: scipy>=0.14 in /usr/local/lib/python3.7/dist-packages (from keras==2.2.4) (1.7.3)\n",
            "Requirement already satisfied: six>=1.9.0 in /usr/local/lib/python3.7/dist-packages (from keras==2.2.4) (1.15.0)\n",
            "Requirement already satisfied: cached-property in /usr/local/lib/python3.7/dist-packages (from h5py->keras==2.2.4) (1.5.2)\n",
            "Installing collected packages: keras-applications, keras\n",
            "  Attempting uninstall: keras\n",
            "    Found existing installation: keras 2.9.0\n",
            "    Uninstalling keras-2.9.0:\n",
            "      Successfully uninstalled keras-2.9.0\n",
            "\u001b[31mERROR: pip's dependency resolver does not currently take into account all the packages that are installed. This behaviour is the source of the following dependency conflicts.\n",
            "tensorflow 2.9.2 requires keras<2.10.0,>=2.9.0rc0, but you have keras 2.2.4 which is incompatible.\u001b[0m\n",
            "Successfully installed keras-2.2.4 keras-applications-1.0.8\n",
            "Looking in indexes: https://pypi.org/simple, https://us-python.pkg.dev/colab-wheels/public/simple/\n",
            "Requirement already satisfied: tensorflow in /usr/local/lib/python3.7/dist-packages (2.9.2)\n",
            "Requirement already satisfied: keras-preprocessing>=1.1.1 in /usr/local/lib/python3.7/dist-packages (from tensorflow) (1.1.2)\n",
            "Requirement already satisfied: wrapt>=1.11.0 in /usr/local/lib/python3.7/dist-packages (from tensorflow) (1.14.1)\n",
            "Requirement already satisfied: termcolor>=1.1.0 in /usr/local/lib/python3.7/dist-packages (from tensorflow) (2.1.0)\n",
            "Requirement already satisfied: astunparse>=1.6.0 in /usr/local/lib/python3.7/dist-packages (from tensorflow) (1.6.3)\n",
            "Requirement already satisfied: setuptools in /usr/local/lib/python3.7/dist-packages (from tensorflow) (57.4.0)\n",
            "Requirement already satisfied: flatbuffers<2,>=1.12 in /usr/local/lib/python3.7/dist-packages (from tensorflow) (1.12)\n",
            "Requirement already satisfied: h5py>=2.9.0 in /usr/local/lib/python3.7/dist-packages (from tensorflow) (3.1.0)\n",
            "Requirement already satisfied: opt-einsum>=2.3.2 in /usr/local/lib/python3.7/dist-packages (from tensorflow) (3.3.0)\n",
            "Requirement already satisfied: tensorflow-io-gcs-filesystem>=0.23.1 in /usr/local/lib/python3.7/dist-packages (from tensorflow) (0.27.0)\n",
            "Requirement already satisfied: typing-extensions>=3.6.6 in /usr/local/lib/python3.7/dist-packages (from tensorflow) (4.1.1)\n",
            "Requirement already satisfied: protobuf<3.20,>=3.9.2 in /usr/local/lib/python3.7/dist-packages (from tensorflow) (3.19.6)\n",
            "Requirement already satisfied: libclang>=13.0.0 in /usr/local/lib/python3.7/dist-packages (from tensorflow) (14.0.6)\n",
            "Requirement already satisfied: numpy>=1.20 in /usr/local/lib/python3.7/dist-packages (from tensorflow) (1.21.6)\n",
            "Requirement already satisfied: tensorflow-estimator<2.10.0,>=2.9.0rc0 in /usr/local/lib/python3.7/dist-packages (from tensorflow) (2.9.0)\n",
            "Requirement already satisfied: google-pasta>=0.1.1 in /usr/local/lib/python3.7/dist-packages (from tensorflow) (0.2.0)\n",
            "Collecting keras<2.10.0,>=2.9.0rc0\n",
            "  Downloading keras-2.9.0-py2.py3-none-any.whl (1.6 MB)\n",
            "\u001b[K     |████████████████████████████████| 1.6 MB 5.2 MB/s \n",
            "\u001b[?25hRequirement already satisfied: gast<=0.4.0,>=0.2.1 in /usr/local/lib/python3.7/dist-packages (from tensorflow) (0.4.0)\n",
            "Requirement already satisfied: tensorboard<2.10,>=2.9 in /usr/local/lib/python3.7/dist-packages (from tensorflow) (2.9.1)\n",
            "Requirement already satisfied: packaging in /usr/local/lib/python3.7/dist-packages (from tensorflow) (21.3)\n",
            "Requirement already satisfied: absl-py>=1.0.0 in /usr/local/lib/python3.7/dist-packages (from tensorflow) (1.3.0)\n",
            "Requirement already satisfied: six>=1.12.0 in /usr/local/lib/python3.7/dist-packages (from tensorflow) (1.15.0)\n",
            "Requirement already satisfied: grpcio<2.0,>=1.24.3 in /usr/local/lib/python3.7/dist-packages (from tensorflow) (1.50.0)\n",
            "Requirement already satisfied: wheel<1.0,>=0.23.0 in /usr/local/lib/python3.7/dist-packages (from astunparse>=1.6.0->tensorflow) (0.38.3)\n",
            "Requirement already satisfied: cached-property in /usr/local/lib/python3.7/dist-packages (from h5py>=2.9.0->tensorflow) (1.5.2)\n",
            "Requirement already satisfied: google-auth-oauthlib<0.5,>=0.4.1 in /usr/local/lib/python3.7/dist-packages (from tensorboard<2.10,>=2.9->tensorflow) (0.4.6)\n",
            "Requirement already satisfied: google-auth<3,>=1.6.3 in /usr/local/lib/python3.7/dist-packages (from tensorboard<2.10,>=2.9->tensorflow) (2.14.1)\n",
            "Requirement already satisfied: requests<3,>=2.21.0 in /usr/local/lib/python3.7/dist-packages (from tensorboard<2.10,>=2.9->tensorflow) (2.23.0)\n",
            "Requirement already satisfied: werkzeug>=1.0.1 in /usr/local/lib/python3.7/dist-packages (from tensorboard<2.10,>=2.9->tensorflow) (1.0.1)\n",
            "Requirement already satisfied: markdown>=2.6.8 in /usr/local/lib/python3.7/dist-packages (from tensorboard<2.10,>=2.9->tensorflow) (3.4.1)\n",
            "Requirement already satisfied: tensorboard-plugin-wit>=1.6.0 in /usr/local/lib/python3.7/dist-packages (from tensorboard<2.10,>=2.9->tensorflow) (1.8.1)\n",
            "Requirement already satisfied: tensorboard-data-server<0.7.0,>=0.6.0 in /usr/local/lib/python3.7/dist-packages (from tensorboard<2.10,>=2.9->tensorflow) (0.6.1)\n",
            "Requirement already satisfied: pyasn1-modules>=0.2.1 in /usr/local/lib/python3.7/dist-packages (from google-auth<3,>=1.6.3->tensorboard<2.10,>=2.9->tensorflow) (0.2.8)\n",
            "Requirement already satisfied: cachetools<6.0,>=2.0.0 in /usr/local/lib/python3.7/dist-packages (from google-auth<3,>=1.6.3->tensorboard<2.10,>=2.9->tensorflow) (5.2.0)\n",
            "Requirement already satisfied: rsa<5,>=3.1.4 in /usr/local/lib/python3.7/dist-packages (from google-auth<3,>=1.6.3->tensorboard<2.10,>=2.9->tensorflow) (4.9)\n",
            "Requirement already satisfied: requests-oauthlib>=0.7.0 in /usr/local/lib/python3.7/dist-packages (from google-auth-oauthlib<0.5,>=0.4.1->tensorboard<2.10,>=2.9->tensorflow) (1.3.1)\n",
            "Requirement already satisfied: importlib-metadata>=4.4 in /usr/local/lib/python3.7/dist-packages (from markdown>=2.6.8->tensorboard<2.10,>=2.9->tensorflow) (4.13.0)\n",
            "Requirement already satisfied: zipp>=0.5 in /usr/local/lib/python3.7/dist-packages (from importlib-metadata>=4.4->markdown>=2.6.8->tensorboard<2.10,>=2.9->tensorflow) (3.10.0)\n",
            "Requirement already satisfied: pyasn1<0.5.0,>=0.4.6 in /usr/local/lib/python3.7/dist-packages (from pyasn1-modules>=0.2.1->google-auth<3,>=1.6.3->tensorboard<2.10,>=2.9->tensorflow) (0.4.8)\n",
            "Requirement already satisfied: idna<3,>=2.5 in /usr/local/lib/python3.7/dist-packages (from requests<3,>=2.21.0->tensorboard<2.10,>=2.9->tensorflow) (2.10)\n",
            "Requirement already satisfied: urllib3!=1.25.0,!=1.25.1,<1.26,>=1.21.1 in /usr/local/lib/python3.7/dist-packages (from requests<3,>=2.21.0->tensorboard<2.10,>=2.9->tensorflow) (1.24.3)\n",
            "Requirement already satisfied: certifi>=2017.4.17 in /usr/local/lib/python3.7/dist-packages (from requests<3,>=2.21.0->tensorboard<2.10,>=2.9->tensorflow) (2022.9.24)\n",
            "Requirement already satisfied: chardet<4,>=3.0.2 in /usr/local/lib/python3.7/dist-packages (from requests<3,>=2.21.0->tensorboard<2.10,>=2.9->tensorflow) (3.0.4)\n",
            "Requirement already satisfied: oauthlib>=3.0.0 in /usr/local/lib/python3.7/dist-packages (from requests-oauthlib>=0.7.0->google-auth-oauthlib<0.5,>=0.4.1->tensorboard<2.10,>=2.9->tensorflow) (3.2.2)\n",
            "Requirement already satisfied: pyparsing!=3.0.5,>=2.0.2 in /usr/local/lib/python3.7/dist-packages (from packaging->tensorflow) (3.0.9)\n",
            "Installing collected packages: keras\n",
            "  Attempting uninstall: keras\n",
            "    Found existing installation: Keras 2.2.4\n",
            "    Uninstalling Keras-2.2.4:\n",
            "      Successfully uninstalled Keras-2.2.4\n",
            "Successfully installed keras-2.9.0\n"
          ]
        }
      ]
    },
    {
      "cell_type": "code",
      "source": [
        "#Importing library"
      ],
      "metadata": {
        "id": "ojLvu--c03iV"
      },
      "execution_count": 3,
      "outputs": []
    },
    {
      "cell_type": "code",
      "source": [
        "import numpy as np\n",
        "import tensorflow\n",
        "import keras\n",
        "from tensorflow.keras.datasets import mnist\n",
        "from tensorflow.keras.models import Sequential\n",
        "from tensorflow.keras import layers\n",
        "from tensorflow.keras.layers import Dense, Flatten\n",
        "from tensorflow.keras.layers import Conv2D, MaxPooling2D\n",
        "from tensorflow.keras.optimizers import Adam\n",
        "from keras.utils import np_utils"
      ],
      "metadata": {
        "id": "_nzJ2o0u0-E1"
      },
      "execution_count": 4,
      "outputs": []
    },
    {
      "cell_type": "code",
      "source": [
        "#load data"
      ],
      "metadata": {
        "id": "X7gPvWSO1BAq"
      },
      "execution_count": 5,
      "outputs": []
    },
    {
      "cell_type": "code",
      "source": [
        "(x_train, y_train), (x_test, y_test) = mnist.load_data()"
      ],
      "metadata": {
        "colab": {
          "base_uri": "https://localhost:8080/"
        },
        "id": "Zzvyo9KY1ET0",
        "outputId": "7b4cee56-2fef-4052-f982-b44216a84826"
      },
      "execution_count": 6,
      "outputs": [
        {
          "output_type": "stream",
          "name": "stdout",
          "text": [
            "Downloading data from https://storage.googleapis.com/tensorflow/tf-keras-datasets/mnist.npz\n",
            "11490434/11490434 [==============================] - 0s 0us/step\n"
          ]
        }
      ]
    },
    {
      "cell_type": "code",
      "source": [
        "print(x_train.shape)\n",
        "print(x_test.shape)"
      ],
      "metadata": {
        "colab": {
          "base_uri": "https://localhost:8080/"
        },
        "id": "EIwQHeC31H6T",
        "outputId": "6b0ca9f5-81d2-47c0-95db-ce78f8253c44"
      },
      "execution_count": 7,
      "outputs": [
        {
          "output_type": "stream",
          "name": "stdout",
          "text": [
            "(60000, 28, 28)\n",
            "(10000, 28, 28)\n"
          ]
        }
      ]
    },
    {
      "cell_type": "code",
      "source": [
        "#data Analyzing"
      ],
      "metadata": {
        "id": "GQ13Fkt-1LaC"
      },
      "execution_count": 8,
      "outputs": []
    },
    {
      "cell_type": "code",
      "source": [
        "x_train[4]"
      ],
      "metadata": {
        "colab": {
          "base_uri": "https://localhost:8080/"
        },
        "id": "7_j2VieK1Oio",
        "outputId": "4bab753c-90ba-431c-fe7d-8a0a5eb3189c"
      },
      "execution_count": 9,
      "outputs": [
        {
          "output_type": "execute_result",
          "data": {
            "text/plain": [
              "array([[  0,   0,   0,   0,   0,   0,   0,   0,   0,   0,   0,   0,   0,\n",
              "          0,   0,   0,   0,   0,   0,   0,   0,   0,   0,   0,   0,   0,\n",
              "          0,   0],\n",
              "       [  0,   0,   0,   0,   0,   0,   0,   0,   0,   0,   0,   0,   0,\n",
              "          0,   0,   0,   0,   0,   0,   0,   0,   0,   0,   0,   0,   0,\n",
              "          0,   0],\n",
              "       [  0,   0,   0,   0,   0,   0,   0,   0,   0,   0,   0,   0,   0,\n",
              "          0,   0,   0,   0,   0,   0,   0,   0,   0,   0,   0,   0,   0,\n",
              "          0,   0],\n",
              "       [  0,   0,   0,   0,   0,   0,   0,   0,   0,   0,   0,   0,   0,\n",
              "          0,   0,   0,   0,   0,   0,   0,   0,   0,   0,   0,   0,   0,\n",
              "          0,   0],\n",
              "       [  0,   0,   0,   0,   0,   0,   0,   0,   0,   0,   0,   0,   0,\n",
              "          0,   0,   0,   0,   0,   0,   0,   0,   0,   0,   0,   0,   0,\n",
              "          0,   0],\n",
              "       [  0,   0,   0,   0,   0,   0,   0,   0,   0,   0,   0,   0,   0,\n",
              "          0,   0,   0,   0,   0,   0,   0,   0,   0,   0,   0,   0,   0,\n",
              "          0,   0],\n",
              "       [  0,   0,   0,   0,   0,   0,   0,   0,   0,   0,   0,   0,   0,\n",
              "          0,   0,   0,   0,   0,   0,   0,   0,   0,   0,   0,   0,   0,\n",
              "          0,   0],\n",
              "       [  0,   0,   0,   0,   0,   0,   0,   0,   0,   0,   0,   0,  55,\n",
              "        148, 210, 253, 253, 113,  87, 148,  55,   0,   0,   0,   0,   0,\n",
              "          0,   0],\n",
              "       [  0,   0,   0,   0,   0,   0,   0,   0,   0,   0,   0,  87, 232,\n",
              "        252, 253, 189, 210, 252, 252, 253, 168,   0,   0,   0,   0,   0,\n",
              "          0,   0],\n",
              "       [  0,   0,   0,   0,   0,   0,   0,   0,   0,   4,  57, 242, 252,\n",
              "        190,  65,   5,  12, 182, 252, 253, 116,   0,   0,   0,   0,   0,\n",
              "          0,   0],\n",
              "       [  0,   0,   0,   0,   0,   0,   0,   0,   0,  96, 252, 252, 183,\n",
              "         14,   0,   0,  92, 252, 252, 225,  21,   0,   0,   0,   0,   0,\n",
              "          0,   0],\n",
              "       [  0,   0,   0,   0,   0,   0,   0,   0, 132, 253, 252, 146,  14,\n",
              "          0,   0,   0, 215, 252, 252,  79,   0,   0,   0,   0,   0,   0,\n",
              "          0,   0],\n",
              "       [  0,   0,   0,   0,   0,   0,   0, 126, 253, 247, 176,   9,   0,\n",
              "          0,   8,  78, 245, 253, 129,   0,   0,   0,   0,   0,   0,   0,\n",
              "          0,   0],\n",
              "       [  0,   0,   0,   0,   0,   0,  16, 232, 252, 176,   0,   0,   0,\n",
              "         36, 201, 252, 252, 169,  11,   0,   0,   0,   0,   0,   0,   0,\n",
              "          0,   0],\n",
              "       [  0,   0,   0,   0,   0,   0,  22, 252, 252,  30,  22, 119, 197,\n",
              "        241, 253, 252, 251,  77,   0,   0,   0,   0,   0,   0,   0,   0,\n",
              "          0,   0],\n",
              "       [  0,   0,   0,   0,   0,   0,  16, 231, 252, 253, 252, 252, 252,\n",
              "        226, 227, 252, 231,   0,   0,   0,   0,   0,   0,   0,   0,   0,\n",
              "          0,   0],\n",
              "       [  0,   0,   0,   0,   0,   0,   0,  55, 235, 253, 217, 138,  42,\n",
              "         24, 192, 252, 143,   0,   0,   0,   0,   0,   0,   0,   0,   0,\n",
              "          0,   0],\n",
              "       [  0,   0,   0,   0,   0,   0,   0,   0,   0,   0,   0,   0,   0,\n",
              "         62, 255, 253, 109,   0,   0,   0,   0,   0,   0,   0,   0,   0,\n",
              "          0,   0],\n",
              "       [  0,   0,   0,   0,   0,   0,   0,   0,   0,   0,   0,   0,   0,\n",
              "         71, 253, 252,  21,   0,   0,   0,   0,   0,   0,   0,   0,   0,\n",
              "          0,   0],\n",
              "       [  0,   0,   0,   0,   0,   0,   0,   0,   0,   0,   0,   0,   0,\n",
              "          0, 253, 252,  21,   0,   0,   0,   0,   0,   0,   0,   0,   0,\n",
              "          0,   0],\n",
              "       [  0,   0,   0,   0,   0,   0,   0,   0,   0,   0,   0,   0,   0,\n",
              "         71, 253, 252,  21,   0,   0,   0,   0,   0,   0,   0,   0,   0,\n",
              "          0,   0],\n",
              "       [  0,   0,   0,   0,   0,   0,   0,   0,   0,   0,   0,   0,   0,\n",
              "        106, 253, 252,  21,   0,   0,   0,   0,   0,   0,   0,   0,   0,\n",
              "          0,   0],\n",
              "       [  0,   0,   0,   0,   0,   0,   0,   0,   0,   0,   0,   0,   0,\n",
              "         45, 255, 253,  21,   0,   0,   0,   0,   0,   0,   0,   0,   0,\n",
              "          0,   0],\n",
              "       [  0,   0,   0,   0,   0,   0,   0,   0,   0,   0,   0,   0,   0,\n",
              "          0, 218, 252,  56,   0,   0,   0,   0,   0,   0,   0,   0,   0,\n",
              "          0,   0],\n",
              "       [  0,   0,   0,   0,   0,   0,   0,   0,   0,   0,   0,   0,   0,\n",
              "          0,  96, 252, 189,  42,   0,   0,   0,   0,   0,   0,   0,   0,\n",
              "          0,   0],\n",
              "       [  0,   0,   0,   0,   0,   0,   0,   0,   0,   0,   0,   0,   0,\n",
              "          0,  14, 184, 252, 170,  11,   0,   0,   0,   0,   0,   0,   0,\n",
              "          0,   0],\n",
              "       [  0,   0,   0,   0,   0,   0,   0,   0,   0,   0,   0,   0,   0,\n",
              "          0,   0,  14, 147, 252,  42,   0,   0,   0,   0,   0,   0,   0,\n",
              "          0,   0],\n",
              "       [  0,   0,   0,   0,   0,   0,   0,   0,   0,   0,   0,   0,   0,\n",
              "          0,   0,   0,   0,   0,   0,   0,   0,   0,   0,   0,   0,   0,\n",
              "          0,   0]], dtype=uint8)"
            ]
          },
          "metadata": {},
          "execution_count": 9
        }
      ]
    },
    {
      "cell_type": "code",
      "source": [
        "y_train[16]"
      ],
      "metadata": {
        "colab": {
          "base_uri": "https://localhost:8080/"
        },
        "id": "Q7ceK6AJ1Sio",
        "outputId": "846cd152-6f65-46dd-a0fc-c4c46bae4bbd"
      },
      "execution_count": 10,
      "outputs": [
        {
          "output_type": "execute_result",
          "data": {
            "text/plain": [
              "2"
            ]
          },
          "metadata": {},
          "execution_count": 10
        }
      ]
    },
    {
      "cell_type": "code",
      "source": [
        "import matplotlib.pyplot as plt"
      ],
      "metadata": {
        "id": "o_xTr8vw1Y_S"
      },
      "execution_count": 11,
      "outputs": []
    },
    {
      "cell_type": "code",
      "source": [
        "plt.imshow(x_train[16])"
      ],
      "metadata": {
        "colab": {
          "base_uri": "https://localhost:8080/",
          "height": 282
        },
        "id": "7jlGLHpk1c2y",
        "outputId": "251b229f-4149-489e-dc9e-703c29db34b3"
      },
      "execution_count": 12,
      "outputs": [
        {
          "output_type": "execute_result",
          "data": {
            "text/plain": [
              "<matplotlib.image.AxesImage at 0x7f1260ecbc10>"
            ]
          },
          "metadata": {},
          "execution_count": 12
        },
        {
          "output_type": "display_data",
          "data": {
            "text/plain": [
              "<Figure size 432x288 with 1 Axes>"
            ],
            "image/png": "[encoded data removed]"
          },
          "metadata": {
            "needs_background": "light"
          }
        }
      ]
    },
    {
      "cell_type": "code",
      "source": [
        "#shaping the data"
      ],
      "metadata": {
        "id": "Zug2PYXH1fgb"
      },
      "execution_count": 13,
      "outputs": []
    },
    {
      "cell_type": "code",
      "source": [
        "x_train = x_train.reshape(60000, 28, 28, 1).astype('float32')\n",
        "x_test = x_test.reshape(10000, 28, 28, 1).astype('float32')\n",
        "x_train[0]"
      ],
      "metadata": {
        "colab": {
          "base_uri": "https://localhost:8080/"
        },
        "id": "CW8aU4mJ1kto",
        "outputId": "75e78d11-294d-4a71-c48a-78b4defddf7c"
      },
      "execution_count": 14,
      "outputs": [
        {
          "output_type": "execute_result",
          "data": {
            "text/plain": [
              "array([[[  0.],\n",
              "        [  0.],\n",
              "        [  0.],\n",
              "        [  0.],\n",
              "        [  0.],\n",
              "        [  0.],\n",
              "        [  0.],\n",
              "        [  0.],\n",
              "        [  0.],\n",
              "        [  0.],\n",
              "        [  0.],\n",
              "        [  0.],\n",
              "        [  0.],\n",
              "        [  0.],\n",
              "        [  0.],\n",
              "        [  0.],\n",
              "        [  0.],\n",
              "        [  0.],\n",
              "        [  0.],\n",
              "        [  0.],\n",
              "        [  0.],\n",
              "        [  0.],\n",
              "        [  0.],\n",
              "        [  0.],\n",
              "        [  0.],\n",
              "        [  0.],\n",
              "        [  0.],\n",
              "        [  0.]],\n",
              "\n",
              "       [[  0.],\n",
              "        [  0.],\n",
              "        [  0.],\n",
              "        [  0.],\n",
              "        [  0.],\n",
              "        [  0.],\n",
              "        [  0.],\n",
              "        [  0.],\n",
              "        [  0.],\n",
              "        [  0.],\n",
              "        [  0.],\n",
              "        [  0.],\n",
              "        [  0.],\n",
              "        [  0.],\n",
              "        [  0.],\n",
              "        [  0.],\n",
              "        [  0.],\n",
              "        [  0.],\n",
              "        [  0.],\n",
              "        [  0.],\n",
              "        [  0.],\n",
              "        [  0.],\n",
              "        [  0.],\n",
              "        [  0.],\n",
              "        [  0.],\n",
              "        [  0.],\n",
              "        [  0.],\n",
              "        [  0.]],\n",
              "\n",
              "       [[  0.],\n",
              "        [  0.],\n",
              "        [  0.],\n",
              "        [  0.],\n",
              "        [  0.],\n",
              "        [  0.],\n",
              "        [  0.],\n",
              "        [  0.],\n",
              "        [  0.],\n",
              "        [  0.],\n",
              "        [  0.],\n",
              "        [  0.],\n",
              "        [  0.],\n",
              "        [  0.],\n",
              "        [  0.],\n",
              "        [  0.],\n",
              "        [  0.],\n",
              "        [  0.],\n",
              "        [  0.],\n",
              "        [  0.],\n",
              "        [  0.],\n",
              "        [  0.],\n",
              "        [  0.],\n",
              "        [  0.],\n",
              "        [  0.],\n",
              "        [  0.],\n",
              "        [  0.],\n",
              "        [  0.]],\n",
              "\n",
              "       [[  0.],\n",
              "        [  0.],\n",
              "        [  0.],\n",
              "        [  0.],\n",
              "        [  0.],\n",
              "        [  0.],\n",
              "        [  0.],\n",
              "        [  0.],\n",
              "        [  0.],\n",
              "        [  0.],\n",
              "        [  0.],\n",
              "        [  0.],\n",
              "        [  0.],\n",
              "        [  0.],\n",
              "        [  0.],\n",
              "        [  0.],\n",
              "        [  0.],\n",
              "        [  0.],\n",
              "        [  0.],\n",
              "        [  0.],\n",
              "        [  0.],\n",
              "        [  0.],\n",
              "        [  0.],\n",
              "        [  0.],\n",
              "        [  0.],\n",
              "        [  0.],\n",
              "        [  0.],\n",
              "        [  0.]],\n",
              "\n",
              "       [[  0.],\n",
              "        [  0.],\n",
              "        [  0.],\n",
              "        [  0.],\n",
              "        [  0.],\n",
              "        [  0.],\n",
              "        [  0.],\n",
              "        [  0.],\n",
              "        [  0.],\n",
              "        [  0.],\n",
              "        [  0.],\n",
              "        [  0.],\n",
              "        [  0.],\n",
              "        [  0.],\n",
              "        [  0.],\n",
              "        [  0.],\n",
              "        [  0.],\n",
              "        [  0.],\n",
              "        [  0.],\n",
              "        [  0.],\n",
              "        [  0.],\n",
              "        [  0.],\n",
              "        [  0.],\n",
              "        [  0.],\n",
              "        [  0.],\n",
              "        [  0.],\n",
              "        [  0.],\n",
              "        [  0.]],\n",
              "\n",
              "       [[  0.],\n",
              "        [  0.],\n",
              "        [  0.],\n",
              "        [  0.],\n",
              "        [  0.],\n",
              "        [  0.],\n",
              "        [  0.],\n",
              "        [  0.],\n",
              "        [  0.],\n",
              "        [  0.],\n",
              "        [  0.],\n",
              "        [  0.],\n",
              "        [  3.],\n",
              "        [ 18.],\n",
              "        [ 18.],\n",
              "        [ 18.],\n",
              "        [126.],\n",
              "        [136.],\n",
              "        [175.],\n",
              "        [ 26.],\n",
              "        [166.],\n",
              "        [255.],\n",
              "        [247.],\n",
              "        [127.],\n",
              "        [  0.],\n",
              "        [  0.],\n",
              "        [  0.],\n",
              "        [  0.]],\n",
              "\n",
              "       [[  0.],\n",
              "        [  0.],\n",
              "        [  0.],\n",
              "        [  0.],\n",
              "        [  0.],\n",
              "        [  0.],\n",
              "        [  0.],\n",
              "        [  0.],\n",
              "        [ 30.],\n",
              "        [ 36.],\n",
              "        [ 94.],\n",
              "        [154.],\n",
              "        [170.],\n",
              "        [253.],\n",
              "        [253.],\n",
              "        [253.],\n",
              "        [253.],\n",
              "        [253.],\n",
              "        [225.],\n",
              "        [172.],\n",
              "        [253.],\n",
              "        [242.],\n",
              "        [195.],\n",
              "        [ 64.],\n",
              "        [  0.],\n",
              "        [  0.],\n",
              "        [  0.],\n",
              "        [  0.]],\n",
              "\n",
              "       [[  0.],\n",
              "        [  0.],\n",
              "        [  0.],\n",
              "        [  0.],\n",
              "        [  0.],\n",
              "        [  0.],\n",
              "        [  0.],\n",
              "        [ 49.],\n",
              "        [238.],\n",
              "        [253.],\n",
              "        [253.],\n",
              "        [253.],\n",
              "        [253.],\n",
              "        [253.],\n",
              "        [253.],\n",
              "        [253.],\n",
              "        [253.],\n",
              "        [251.],\n",
              "        [ 93.],\n",
              "        [ 82.],\n",
              "        [ 82.],\n",
              "        [ 56.],\n",
              "        [ 39.],\n",
              "        [  0.],\n",
              "        [  0.],\n",
              "        [  0.],\n",
              "        [  0.],\n",
              "        [  0.]],\n",
              "\n",
              "       [[  0.],\n",
              "        [  0.],\n",
              "        [  0.],\n",
              "        [  0.],\n",
              "        [  0.],\n",
              "        [  0.],\n",
              "        [  0.],\n",
              "        [ 18.],\n",
              "        [219.],\n",
              "        [253.],\n",
              "        [253.],\n",
              "        [253.],\n",
              "        [253.],\n",
              "        [253.],\n",
              "        [198.],\n",
              "        [182.],\n",
              "        [247.],\n",
              "        [241.],\n",
              "        [  0.],\n",
              "        [  0.],\n",
              "        [  0.],\n",
              "        [  0.],\n",
              "        [  0.],\n",
              "        [  0.],\n",
              "        [  0.],\n",
              "        [  0.],\n",
              "        [  0.],\n",
              "        [  0.]],\n",
              "\n",
              "       [[  0.],\n",
              "        [  0.],\n",
              "        [  0.],\n",
              "        [  0.],\n",
              "        [  0.],\n",
              "        [  0.],\n",
              "        [  0.],\n",
              "        [  0.],\n",
              "        [ 80.],\n",
              "        [156.],\n",
              "        [107.],\n",
              "        [253.],\n",
              "        [253.],\n",
              "        [205.],\n",
              "        [ 11.],\n",
              "        [  0.],\n",
              "        [ 43.],\n",
              "        [154.],\n",
              "        [  0.],\n",
              "        [  0.],\n",
              "        [  0.],\n",
              "        [  0.],\n",
              "        [  0.],\n",
              "        [  0.],\n",
              "        [  0.],\n",
              "        [  0.],\n",
              "        [  0.],\n",
              "        [  0.]],\n",
              "\n",
              "       [[  0.],\n",
              "        [  0.],\n",
              "        [  0.],\n",
              "        [  0.],\n",
              "        [  0.],\n",
              "        [  0.],\n",
              "        [  0.],\n",
              "        [  0.],\n",
              "        [  0.],\n",
              "        [ 14.],\n",
              "        [  1.],\n",
              "        [154.],\n",
              "        [253.],\n",
              "        [ 90.],\n",
              "        [  0.],\n",
              "        [  0.],\n",
              "        [  0.],\n",
              "        [  0.],\n",
              "        [  0.],\n",
              "        [  0.],\n",
              "        [  0.],\n",
              "        [  0.],\n",
              "        [  0.],\n",
              "        [  0.],\n",
              "        [  0.],\n",
              "        [  0.],\n",
              "        [  0.],\n",
              "        [  0.]],\n",
              "\n",
              "       [[  0.],\n",
              "        [  0.],\n",
              "        [  0.],\n",
              "        [  0.],\n",
              "        [  0.],\n",
              "        [  0.],\n",
              "        [  0.],\n",
              "        [  0.],\n",
              "        [  0.],\n",
              "        [  0.],\n",
              "        [  0.],\n",
              "        [139.],\n",
              "        [253.],\n",
              "        [190.],\n",
              "        [  2.],\n",
              "        [  0.],\n",
              "        [  0.],\n",
              "        [  0.],\n",
              "        [  0.],\n",
              "        [  0.],\n",
              "        [  0.],\n",
              "        [  0.],\n",
              "        [  0.],\n",
              "        [  0.],\n",
              "        [  0.],\n",
              "        [  0.],\n",
              "        [  0.],\n",
              "        [  0.]],\n",
              "\n",
              "       [[  0.],\n",
              "        [  0.],\n",
              "        [  0.],\n",
              "        [  0.],\n",
              "        [  0.],\n",
              "        [  0.],\n",
              "        [  0.],\n",
              "        [  0.],\n",
              "        [  0.],\n",
              "        [  0.],\n",
              "        [  0.],\n",
              "        [ 11.],\n",
              "        [190.],\n",
              "        [253.],\n",
              "        [ 70.],\n",
              "        [  0.],\n",
              "        [  0.],\n",
              "        [  0.],\n",
              "        [  0.],\n",
              "        [  0.],\n",
              "        [  0.],\n",
              "        [  0.],\n",
              "        [  0.],\n",
              "        [  0.],\n",
              "        [  0.],\n",
              "        [  0.],\n",
              "        [  0.],\n",
              "        [  0.]],\n",
              "\n",
              "       [[  0.],\n",
              "        [  0.],\n",
              "        [  0.],\n",
              "        [  0.],\n",
              "        [  0.],\n",
              "        [  0.],\n",
              "        [  0.],\n",
              "        [  0.],\n",
              "        [  0.],\n",
              "        [  0.],\n",
              "        [  0.],\n",
              "        [  0.],\n",
              "        [ 35.],\n",
              "        [241.],\n",
              "        [225.],\n",
              "        [160.],\n",
              "        [108.],\n",
              "        [  1.],\n",
              "        [  0.],\n",
              "        [  0.],\n",
              "        [  0.],\n",
              "        [  0.],\n",
              "        [  0.],\n",
              "        [  0.],\n",
              "        [  0.],\n",
              "        [  0.],\n",
              "        [  0.],\n",
              "        [  0.]],\n",
              "\n",
              "       [[  0.],\n",
              "        [  0.],\n",
              "        [  0.],\n",
              "        [  0.],\n",
              "        [  0.],\n",
              "        [  0.],\n",
              "        [  0.],\n",
              "        [  0.],\n",
              "        [  0.],\n",
              "        [  0.],\n",
              "        [  0.],\n",
              "        [  0.],\n",
              "        [  0.],\n",
              "        [ 81.],\n",
              "        [240.],\n",
              "        [253.],\n",
              "        [253.],\n",
              "        [119.],\n",
              "        [ 25.],\n",
              "        [  0.],\n",
              "        [  0.],\n",
              "        [  0.],\n",
              "        [  0.],\n",
              "        [  0.],\n",
              "        [  0.],\n",
              "        [  0.],\n",
              "        [  0.],\n",
              "        [  0.]],\n",
              "\n",
              "       [[  0.],\n",
              "        [  0.],\n",
              "        [  0.],\n",
              "        [  0.],\n",
              "        [  0.],\n",
              "        [  0.],\n",
              "        [  0.],\n",
              "        [  0.],\n",
              "        [  0.],\n",
              "        [  0.],\n",
              "        [  0.],\n",
              "        [  0.],\n",
              "        [  0.],\n",
              "        [  0.],\n",
              "        [ 45.],\n",
              "        [186.],\n",
              "        [253.],\n",
              "        [253.],\n",
              "        [150.],\n",
              "        [ 27.],\n",
              "        [  0.],\n",
              "        [  0.],\n",
              "        [  0.],\n",
              "        [  0.],\n",
              "        [  0.],\n",
              "        [  0.],\n",
              "        [  0.],\n",
              "        [  0.]],\n",
              "\n",
              "       [[  0.],\n",
              "        [  0.],\n",
              "        [  0.],\n",
              "        [  0.],\n",
              "        [  0.],\n",
              "        [  0.],\n",
              "        [  0.],\n",
              "        [  0.],\n",
              "        [  0.],\n",
              "        [  0.],\n",
              "        [  0.],\n",
              "        [  0.],\n",
              "        [  0.],\n",
              "        [  0.],\n",
              "        [  0.],\n",
              "        [ 16.],\n",
              "        [ 93.],\n",
              "        [252.],\n",
              "        [253.],\n",
              "        [187.],\n",
              "        [  0.],\n",
              "        [  0.],\n",
              "        [  0.],\n",
              "        [  0.],\n",
              "        [  0.],\n",
              "        [  0.],\n",
              "        [  0.],\n",
              "        [  0.]],\n",
              "\n",
              "       [[  0.],\n",
              "        [  0.],\n",
              "        [  0.],\n",
              "        [  0.],\n",
              "        [  0.],\n",
              "        [  0.],\n",
              "        [  0.],\n",
              "        [  0.],\n",
              "        [  0.],\n",
              "        [  0.],\n",
              "        [  0.],\n",
              "        [  0.],\n",
              "        [  0.],\n",
              "        [  0.],\n",
              "        [  0.],\n",
              "        [  0.],\n",
              "        [  0.],\n",
              "        [249.],\n",
              "        [253.],\n",
              "        [249.],\n",
              "        [ 64.],\n",
              "        [  0.],\n",
              "        [  0.],\n",
              "        [  0.],\n",
              "        [  0.],\n",
              "        [  0.],\n",
              "        [  0.],\n",
              "        [  0.]],\n",
              "\n",
              "       [[  0.],\n",
              "        [  0.],\n",
              "        [  0.],\n",
              "        [  0.],\n",
              "        [  0.],\n",
              "        [  0.],\n",
              "        [  0.],\n",
              "        [  0.],\n",
              "        [  0.],\n",
              "        [  0.],\n",
              "        [  0.],\n",
              "        [  0.],\n",
              "        [  0.],\n",
              "        [  0.],\n",
              "        [ 46.],\n",
              "        [130.],\n",
              "        [183.],\n",
              "        [253.],\n",
              "        [253.],\n",
              "        [207.],\n",
              "        [  2.],\n",
              "        [  0.],\n",
              "        [  0.],\n",
              "        [  0.],\n",
              "        [  0.],\n",
              "        [  0.],\n",
              "        [  0.],\n",
              "        [  0.]],\n",
              "\n",
              "       [[  0.],\n",
              "        [  0.],\n",
              "        [  0.],\n",
              "        [  0.],\n",
              "        [  0.],\n",
              "        [  0.],\n",
              "        [  0.],\n",
              "        [  0.],\n",
              "        [  0.],\n",
              "        [  0.],\n",
              "        [  0.],\n",
              "        [  0.],\n",
              "        [ 39.],\n",
              "        [148.],\n",
              "        [229.],\n",
              "        [253.],\n",
              "        [253.],\n",
              "        [253.],\n",
              "        [250.],\n",
              "        [182.],\n",
              "        [  0.],\n",
              "        [  0.],\n",
              "        [  0.],\n",
              "        [  0.],\n",
              "        [  0.],\n",
              "        [  0.],\n",
              "        [  0.],\n",
              "        [  0.]],\n",
              "\n",
              "       [[  0.],\n",
              "        [  0.],\n",
              "        [  0.],\n",
              "        [  0.],\n",
              "        [  0.],\n",
              "        [  0.],\n",
              "        [  0.],\n",
              "        [  0.],\n",
              "        [  0.],\n",
              "        [  0.],\n",
              "        [ 24.],\n",
              "        [114.],\n",
              "        [221.],\n",
              "        [253.],\n",
              "        [253.],\n",
              "        [253.],\n",
              "        [253.],\n",
              "        [201.],\n",
              "        [ 78.],\n",
              "        [  0.],\n",
              "        [  0.],\n",
              "        [  0.],\n",
              "        [  0.],\n",
              "        [  0.],\n",
              "        [  0.],\n",
              "        [  0.],\n",
              "        [  0.],\n",
              "        [  0.]],\n",
              "\n",
              "       [[  0.],\n",
              "        [  0.],\n",
              "        [  0.],\n",
              "        [  0.],\n",
              "        [  0.],\n",
              "        [  0.],\n",
              "        [  0.],\n",
              "        [  0.],\n",
              "        [ 23.],\n",
              "        [ 66.],\n",
              "        [213.],\n",
              "        [253.],\n",
              "        [253.],\n",
              "        [253.],\n",
              "        [253.],\n",
              "        [198.],\n",
              "        [ 81.],\n",
              "        [  2.],\n",
              "        [  0.],\n",
              "        [  0.],\n",
              "        [  0.],\n",
              "        [  0.],\n",
              "        [  0.],\n",
              "        [  0.],\n",
              "        [  0.],\n",
              "        [  0.],\n",
              "        [  0.],\n",
              "        [  0.]],\n",
              "\n",
              "       [[  0.],\n",
              "        [  0.],\n",
              "        [  0.],\n",
              "        [  0.],\n",
              "        [  0.],\n",
              "        [  0.],\n",
              "        [ 18.],\n",
              "        [171.],\n",
              "        [219.],\n",
              "        [253.],\n",
              "        [253.],\n",
              "        [253.],\n",
              "        [253.],\n",
              "        [195.],\n",
              "        [ 80.],\n",
              "        [  9.],\n",
              "        [  0.],\n",
              "        [  0.],\n",
              "        [  0.],\n",
              "        [  0.],\n",
              "        [  0.],\n",
              "        [  0.],\n",
              "        [  0.],\n",
              "        [  0.],\n",
              "        [  0.],\n",
              "        [  0.],\n",
              "        [  0.],\n",
              "        [  0.]],\n",
              "\n",
              "       [[  0.],\n",
              "        [  0.],\n",
              "        [  0.],\n",
              "        [  0.],\n",
              "        [ 55.],\n",
              "        [172.],\n",
              "        [226.],\n",
              "        [253.],\n",
              "        [253.],\n",
              "        [253.],\n",
              "        [253.],\n",
              "        [244.],\n",
              "        [133.],\n",
              "        [ 11.],\n",
              "        [  0.],\n",
              "        [  0.],\n",
              "        [  0.],\n",
              "        [  0.],\n",
              "        [  0.],\n",
              "        [  0.],\n",
              "        [  0.],\n",
              "        [  0.],\n",
              "        [  0.],\n",
              "        [  0.],\n",
              "        [  0.],\n",
              "        [  0.],\n",
              "        [  0.],\n",
              "        [  0.]],\n",
              "\n",
              "       [[  0.],\n",
              "        [  0.],\n",
              "        [  0.],\n",
              "        [  0.],\n",
              "        [136.],\n",
              "        [253.],\n",
              "        [253.],\n",
              "        [253.],\n",
              "        [212.],\n",
              "        [135.],\n",
              "        [132.],\n",
              "        [ 16.],\n",
              "        [  0.],\n",
              "        [  0.],\n",
              "        [  0.],\n",
              "        [  0.],\n",
              "        [  0.],\n",
              "        [  0.],\n",
              "        [  0.],\n",
              "        [  0.],\n",
              "        [  0.],\n",
              "        [  0.],\n",
              "        [  0.],\n",
              "        [  0.],\n",
              "        [  0.],\n",
              "        [  0.],\n",
              "        [  0.],\n",
              "        [  0.]],\n",
              "\n",
              "       [[  0.],\n",
              "        [  0.],\n",
              "        [  0.],\n",
              "        [  0.],\n",
              "        [  0.],\n",
              "        [  0.],\n",
              "        [  0.],\n",
              "        [  0.],\n",
              "        [  0.],\n",
              "        [  0.],\n",
              "        [  0.],\n",
              "        [  0.],\n",
              "        [  0.],\n",
              "        [  0.],\n",
              "        [  0.],\n",
              "        [  0.],\n",
              "        [  0.],\n",
              "        [  0.],\n",
              "        [  0.],\n",
              "        [  0.],\n",
              "        [  0.],\n",
              "        [  0.],\n",
              "        [  0.],\n",
              "        [  0.],\n",
              "        [  0.],\n",
              "        [  0.],\n",
              "        [  0.],\n",
              "        [  0.]],\n",
              "\n",
              "       [[  0.],\n",
              "        [  0.],\n",
              "        [  0.],\n",
              "        [  0.],\n",
              "        [  0.],\n",
              "        [  0.],\n",
              "        [  0.],\n",
              "        [  0.],\n",
              "        [  0.],\n",
              "        [  0.],\n",
              "        [  0.],\n",
              "        [  0.],\n",
              "        [  0.],\n",
              "        [  0.],\n",
              "        [  0.],\n",
              "        [  0.],\n",
              "        [  0.],\n",
              "        [  0.],\n",
              "        [  0.],\n",
              "        [  0.],\n",
              "        [  0.],\n",
              "        [  0.],\n",
              "        [  0.],\n",
              "        [  0.],\n",
              "        [  0.],\n",
              "        [  0.],\n",
              "        [  0.],\n",
              "        [  0.]],\n",
              "\n",
              "       [[  0.],\n",
              "        [  0.],\n",
              "        [  0.],\n",
              "        [  0.],\n",
              "        [  0.],\n",
              "        [  0.],\n",
              "        [  0.],\n",
              "        [  0.],\n",
              "        [  0.],\n",
              "        [  0.],\n",
              "        [  0.],\n",
              "        [  0.],\n",
              "        [  0.],\n",
              "        [  0.],\n",
              "        [  0.],\n",
              "        [  0.],\n",
              "        [  0.],\n",
              "        [  0.],\n",
              "        [  0.],\n",
              "        [  0.],\n",
              "        [  0.],\n",
              "        [  0.],\n",
              "        [  0.],\n",
              "        [  0.],\n",
              "        [  0.],\n",
              "        [  0.],\n",
              "        [  0.],\n",
              "        [  0.]]], dtype=float32)"
            ]
          },
          "metadata": {},
          "execution_count": 14
        }
      ]
    },
    {
      "cell_type": "code",
      "source": [
        "no_of_classes=10\n",
        "y_train = np_utils.to_categorical(y_train,no_of_classes)\n",
        "y_test = np_utils.to_categorical(y_test,no_of_classes)"
      ],
      "metadata": {
        "id": "theMiUMQ1mlG"
      },
      "execution_count": 15,
      "outputs": []
    },
    {
      "cell_type": "code",
      "source": [
        "y_train[16]"
      ],
      "metadata": {
        "colab": {
          "base_uri": "https://localhost:8080/"
        },
        "id": "90P2Rh521s2r",
        "outputId": "2b1f25a1-4dfc-4133-d1e1-dce794eadf10"
      },
      "execution_count": 16,
      "outputs": [
        {
          "output_type": "execute_result",
          "data": {
            "text/plain": [
              "array([0., 0., 1., 0., 0., 0., 0., 0., 0., 0.], dtype=float32)"
            ]
          },
          "metadata": {},
          "execution_count": 16
        }
      ]
    },
    {
      "cell_type": "code",
      "source": [
        "model = Sequential()"
      ],
      "metadata": {
        "id": "OXmL0EVY1wHb"
      },
      "execution_count": 17,
      "outputs": []
    },
    {
      "cell_type": "code",
      "source": [
        "model.add(Conv2D(32, (3,3),input_shape=(28, 28, 1), activation = 'relu'))\n",
        "model.add(MaxPooling2D(pool_size=(2, 2)))"
      ],
      "metadata": {
        "id": "tXLU4eUh107w"
      },
      "execution_count": 18,
      "outputs": []
    },
    {
      "cell_type": "code",
      "source": [
        "model.add(Conv2D(64,(3,3), activation = 'relu'))\n",
        "model.add(Conv2D(64,(3,3), activation = 'relu'))"
      ],
      "metadata": {
        "id": "FmQekGua12X3"
      },
      "execution_count": 19,
      "outputs": []
    },
    {
      "cell_type": "code",
      "source": [
        "model.add(Conv2D(32,(3,3), activation = 'relu'))\n",
        "model.add(MaxPooling2D(pool_size=(2, 2)))"
      ],
      "metadata": {
        "id": "hbch152E166Z"
      },
      "execution_count": 20,
      "outputs": []
    },
    {
      "cell_type": "code",
      "source": [
        "model.add(Flatten())\n",
        "model.add(Dense(10, activation = 'softmax'))"
      ],
      "metadata": {
        "id": "G_jG_AWg18Xn"
      },
      "execution_count": 21,
      "outputs": []
    },
    {
      "cell_type": "code",
      "source": [
        "model.summary()"
      ],
      "metadata": {
        "colab": {
          "base_uri": "https://localhost:8080/"
        },
        "id": "-uN7xDdC1_Wn",
        "outputId": "e8dee84a-c23e-468a-ae99-685deb4782b8"
      },
      "execution_count": 22,
      "outputs": [
        {
          "output_type": "stream",
          "name": "stdout",
          "text": [
            "Model: \"sequential\"\n",
            "_________________________________________________________________\n",
            " Layer (type)                Output Shape              Param #   \n",
            "=================================================================\n",
            " conv2d (Conv2D)             (None, 26, 26, 32)        320       \n",
            "                                                                 \n",
            " max_pooling2d (MaxPooling2D  (None, 13, 13, 32)       0         \n",
            " )                                                               \n",
            "                                                                 \n",
            " conv2d_1 (Conv2D)           (None, 11, 11, 64)        18496     \n",
            "                                                                 \n",
            " conv2d_2 (Conv2D)           (None, 9, 9, 64)          36928     \n",
            "                                                                 \n",
            " conv2d_3 (Conv2D)           (None, 7, 7, 32)          18464     \n",
            "                                                                 \n",
            " max_pooling2d_1 (MaxPooling  (None, 3, 3, 32)         0         \n",
            " 2D)                                                             \n",
            "                                                                 \n",
            " flatten (Flatten)           (None, 288)               0         \n",
            "                                                                 \n",
            " dense (Dense)               (None, 10)                2890      \n",
            "                                                                 \n",
            "=================================================================\n",
            "Total params: 77,098\n",
            "Trainable params: 77,098\n",
            "Non-trainable params: 0\n",
            "_________________________________________________________________\n"
          ]
        }
      ]
    },
    {
      "cell_type": "code",
      "source": [
        "model.compile(loss= 'categorical_crossentropy', optimizer=\"Adam\", metrics=['accuracy'])"
      ],
      "metadata": {
        "id": "aVlPBVLb2MwI"
      },
      "execution_count": 23,
      "outputs": []
    },
    {
      "cell_type": "code",
      "source": [
        "x_train = np.asarray(x_train)\n",
        "y_train = np.asarray(y_train)"
      ],
      "metadata": {
        "id": "S7amWwp52QMT"
      },
      "execution_count": 24,
      "outputs": []
    },
    {
      "cell_type": "code",
      "source": [
        "# train the model"
      ],
      "metadata": {
        "id": "2sPcqVpn2SuK"
      },
      "execution_count": 25,
      "outputs": []
    },
    {
      "cell_type": "code",
      "source": [
        "\n",
        "model.fit(x_train, y_train, validation_data=(x_test, y_test), epochs=5, batch_size=32)"
      ],
      "metadata": {
        "colab": {
          "base_uri": "https://localhost:8080/"
        },
        "id": "zXtsbY2h2WnF",
        "outputId": "90546543-907c-4ed4-f36f-460f03d9b637"
      },
      "execution_count": 27,
      "outputs": [
        {
          "output_type": "stream",
          "name": "stdout",
          "text": [
            "Epoch 1/5\n",
            "1875/1875 [==============================] - 124s 65ms/step - loss: 0.2509 - accuracy: 0.9383 - val_loss: 0.0610 - val_accuracy: 0.9805\n",
            "Epoch 2/5\n",
            "1875/1875 [==============================] - 115s 61ms/step - loss: 0.0631 - accuracy: 0.9807 - val_loss: 0.0475 - val_accuracy: 0.9845\n",
            "Epoch 3/5\n",
            "1875/1875 [==============================] - 115s 61ms/step - loss: 0.0499 - accuracy: 0.9852 - val_loss: 0.0549 - val_accuracy: 0.9824\n",
            "Epoch 4/5\n",
            "1875/1875 [==============================] - 119s 64ms/step - loss: 0.0419 - accuracy: 0.9869 - val_loss: 0.0383 - val_accuracy: 0.9887\n",
            "Epoch 5/5\n",
            "1875/1875 [==============================] - 119s 63ms/step - loss: 0.0389 - accuracy: 0.9884 - val_loss: 0.0365 - val_accuracy: 0.9872\n"
          ]
        },
        {
          "output_type": "execute_result",
          "data": {
            "text/plain": [
              "<keras.callbacks.History at 0x7f125c7b8250>"
            ]
          },
          "metadata": {},
          "execution_count": 27
        }
      ]
    },
    {
      "cell_type": "code",
      "source": [
        "# Testing the model"
      ],
      "metadata": {
        "id": "gYEuI1Op3OiW"
      },
      "execution_count": 28,
      "outputs": []
    },
    {
      "cell_type": "code",
      "source": [
        "prediction = model.predict(x_test[:4])\n",
        "prediction"
      ],
      "metadata": {
        "colab": {
          "base_uri": "https://localhost:8080/"
        },
        "id": "gwMjuZTL3RwF",
        "outputId": "adda3d3b-145c-467e-ce26-422e8266814e"
      },
      "execution_count": 29,
      "outputs": [
        {
          "output_type": "stream",
          "name": "stdout",
          "text": [
            "1/1 [==============================] - 0s 118ms/step\n"
          ]
        },
        {
          "output_type": "execute_result",
          "data": {
            "text/plain": [
              "array([[4.24495127e-11, 4.33925638e-11, 3.67028008e-08, 1.91169788e-10,\n",
              "        6.83676477e-13, 1.31963566e-14, 8.54759719e-20, 1.00000000e+00,\n",
              "        3.36504994e-13, 2.55171795e-09],\n",
              "       [4.71820476e-06, 3.13298870e-06, 9.99984503e-01, 2.16439526e-06,\n",
              "        2.05246775e-09, 5.46816203e-10, 5.26911253e-06, 4.32154442e-12,\n",
              "        2.65987524e-07, 2.70832293e-12],\n",
              "       [1.80561059e-07, 9.99986649e-01, 1.10868484e-07, 3.81364949e-08,\n",
              "        1.20566369e-07, 6.69753035e-08, 9.49688115e-07, 1.71065199e-06,\n",
              "        2.67226284e-07, 9.83531208e-06],\n",
              "       [9.99922872e-01, 2.83473534e-09, 1.92352513e-06, 4.25276454e-07,\n",
              "        4.22481918e-07, 1.19037759e-06, 6.18244012e-05, 1.65272525e-07,\n",
              "        8.83491884e-06, 2.27687406e-06]], dtype=float32)"
            ]
          },
          "metadata": {},
          "execution_count": 29
        }
      ]
    },
    {
      "cell_type": "code",
      "source": [
        "np.argmax(prediction, axis=1)"
      ],
      "metadata": {
        "colab": {
          "base_uri": "https://localhost:8080/"
        },
        "id": "JLc8InvH3VSB",
        "outputId": "d30c60cd-91e3-4e15-f9f7-223763b4a3ec"
      },
      "execution_count": 30,
      "outputs": [
        {
          "output_type": "execute_result",
          "data": {
            "text/plain": [
              "array([7, 2, 1, 0])"
            ]
          },
          "metadata": {},
          "execution_count": 30
        }
      ]
    },
    {
      "cell_type": "code",
      "source": [
        "# Observing the metrics"
      ],
      "metadata": {
        "id": "nx4zdM9j3YAC"
      },
      "execution_count": 31,
      "outputs": []
    },
    {
      "cell_type": "code",
      "source": [
        "metrics = model.evaluate(x_test, y_test, verbose=0)\n",
        "print('METRICS\\n Loss: {:0.3f}\\n Accuracy: {:0.3f}'.format(metrics[0],metrics[1]))"
      ],
      "metadata": {
        "colab": {
          "base_uri": "https://localhost:8080/"
        },
        "id": "02fhFn-Q3cb3",
        "outputId": "00877dd5-c6b7-4f84-8d71-700235823044"
      },
      "execution_count": 33,
      "outputs": [
        {
          "output_type": "stream",
          "name": "stdout",
          "text": [
            "METRICS\n",
            " Loss: 0.036\n",
            " Accuracy: 0.987\n"
          ]
        }
      ]
    },
    {
      "cell_type": "code",
      "source": [
        "# Saving the model"
      ],
      "metadata": {
        "id": "DdmUwSaT3e4_"
      },
      "execution_count": 34,
      "outputs": []
    },
    {
      "cell_type": "code",
      "source": [
        "model.save(\"ibm_mnistcnn.h5\")"
      ],
      "metadata": {
        "id": "F4VLWFDL3hMU"
      },
      "execution_count": 35,
      "outputs": []
    },
    {
      "cell_type": "code",
      "source": [
        "ls"
      ],
      "metadata": {
        "colab": {
          "base_uri": "https://localhost:8080/"
        },
        "id": "mgpA9Lcu3lZO",
        "outputId": "31cff9b3-397e-4209-c8ef-ea57a43a4926"
      },
      "execution_count": 36,
      "outputs": [
        {
          "output_type": "stream",
          "name": "stdout",
          "text": [
            "ibm_mnistcnn.h5  \u001b[0m\u001b[01;34msample_data\u001b[0m/\n"
          ]
        }
      ]
    },
    {
      "cell_type": "code",
      "source": [
        "!tar -zcvf handwritten-model.tgz ibm_mnistcnn.h5"
      ],
      "metadata": {
        "colab": {
          "base_uri": "https://localhost:8080/"
        },
        "id": "0z1HUHtb3ntz",
        "outputId": "11872155-7a20-4054-8c7d-760653618de5"
      },
      "execution_count": 37,
      "outputs": [
        {
          "output_type": "stream",
          "name": "stdout",
          "text": [
            "ibm_mnistcnn.h5\n"
          ]
        }
      ]
    },
    {
      "cell_type": "code",
      "source": [
        "ls"
      ],
      "metadata": {
        "colab": {
          "base_uri": "https://localhost:8080/"
        },
        "id": "aF6zvbtn3qDK",
        "outputId": "4836290d-f02f-4441-d7e2-c3c838ea7315"
      },
      "execution_count": 38,
      "outputs": [
        {
          "output_type": "stream",
          "name": "stdout",
          "text": [
            "handwritten-model.tgz  ibm_mnistcnn.h5  \u001b[0m\u001b[01;34msample_data\u001b[0m/\n"
          ]
        }
      ]
    },
    {
      "cell_type": "code",
      "source": [
        "# installing watson machine learnig"
      ],
      "metadata": {
        "id": "1ocBrwwa3snU"
      },
      "execution_count": 40,
      "outputs": []
    },
    {
      "cell_type": "code",
      "source": [
        "!pip install watson-machine-learning-client --upgrade"
      ],
      "metadata": {
        "colab": {
          "base_uri": "https://localhost:8080/",
          "height": 1000
        },
        "id": "o_e-Mel93xJw",
        "outputId": "0df5956e-d9cc-42a5-8888-76b5d92a691d"
      },
      "execution_count": 39,
      "outputs": [
        {
          "output_type": "stream",
          "name": "stdout",
          "text": [
            "Looking in indexes: https://pypi.org/simple, https://us-python.pkg.dev/colab-wheels/public/simple/\n",
            "Collecting watson-machine-learning-client\n",
            "  Downloading watson_machine_learning_client-1.0.391-py3-none-any.whl (538 kB)\n",
            "\u001b[K     |████████████████████████████████| 538 kB 5.2 MB/s \n",
            "\u001b[?25hRequirement already satisfied: tqdm in /usr/local/lib/python3.7/dist-packages (from watson-machine-learning-client) (4.64.1)\n",
            "Requirement already satisfied: certifi in /usr/local/lib/python3.7/dist-packages (from watson-machine-learning-client) (2022.9.24)\n",
            "Requirement already satisfied: pandas in /usr/local/lib/python3.7/dist-packages (from watson-machine-learning-client) (1.3.5)\n",
            "Requirement already satisfied: requests in /usr/local/lib/python3.7/dist-packages (from watson-machine-learning-client) (2.23.0)\n",
            "Requirement already satisfied: urllib3 in /usr/local/lib/python3.7/dist-packages (from watson-machine-learning-client) (1.24.3)\n",
            "Collecting boto3\n",
            "  Downloading boto3-1.26.12-py3-none-any.whl (132 kB)\n",
            "\u001b[K     |████████████████████████████████| 132 kB 60.2 MB/s \n",
            "\u001b[?25hRequirement already satisfied: tabulate in /usr/local/lib/python3.7/dist-packages (from watson-machine-learning-client) (0.8.10)\n",
            "Collecting lomond\n",
            "  Downloading lomond-0.3.3-py2.py3-none-any.whl (35 kB)\n",
            "Collecting ibm-cos-sdk\n",
            "  Downloading ibm-cos-sdk-2.12.0.tar.gz (55 kB)\n",
            "\u001b[K     |████████████████████████████████| 55 kB 3.6 MB/s \n",
            "\u001b[?25hCollecting jmespath<2.0.0,>=0.7.1\n",
            "  Downloading jmespath-1.0.1-py3-none-any.whl (20 kB)\n",
            "Collecting s3transfer<0.7.0,>=0.6.0\n",
            "  Downloading s3transfer-0.6.0-py3-none-any.whl (79 kB)\n",
            "\u001b[K     |████████████████████████████████| 79 kB 8.0 MB/s \n",
            "\u001b[?25hCollecting botocore<1.30.0,>=1.29.12\n",
            "  Downloading botocore-1.29.12-py3-none-any.whl (9.9 MB)\n",
            "\u001b[K     |████████████████████████████████| 9.9 MB 52.0 MB/s \n",
            "\u001b[?25hRequirement already satisfied: python-dateutil<3.0.0,>=2.1 in /usr/local/lib/python3.7/dist-packages (from botocore<1.30.0,>=1.29.12->boto3->watson-machine-learning-client) (2.8.2)\n",
            "Collecting urllib3\n",
            "  Downloading urllib3-1.26.12-py2.py3-none-any.whl (140 kB)\n",
            "\u001b[K     |████████████████████████████████| 140 kB 57.3 MB/s \n",
            "\u001b[?25hRequirement already satisfied: six>=1.5 in /usr/local/lib/python3.7/dist-packages (from python-dateutil<3.0.0,>=2.1->botocore<1.30.0,>=1.29.12->boto3->watson-machine-learning-client) (1.15.0)\n",
            "Collecting ibm-cos-sdk-core==2.12.0\n",
            "  Downloading ibm-cos-sdk-core-2.12.0.tar.gz (956 kB)\n",
            "\u001b[K     |████████████████████████████████| 956 kB 55.7 MB/s \n",
            "\u001b[?25hCollecting ibm-cos-sdk-s3transfer==2.12.0\n",
            "  Downloading ibm-cos-sdk-s3transfer-2.12.0.tar.gz (135 kB)\n",
            "\u001b[K     |████████████████████████████████| 135 kB 51.9 MB/s \n",
            "\u001b[?25hCollecting jmespath<2.0.0,>=0.7.1\n",
            "  Downloading jmespath-0.10.0-py2.py3-none-any.whl (24 kB)\n",
            "Collecting requests\n",
            "  Downloading requests-2.28.1-py3-none-any.whl (62 kB)\n",
            "\u001b[K     |████████████████████████████████| 62 kB 1.4 MB/s \n",
            "\u001b[?25hRequirement already satisfied: charset-normalizer<3,>=2 in /usr/local/lib/python3.7/dist-packages (from requests->watson-machine-learning-client) (2.1.1)\n",
            "Requirement already satisfied: idna<4,>=2.5 in /usr/local/lib/python3.7/dist-packages (from requests->watson-machine-learning-client) (2.10)\n",
            "Requirement already satisfied: pytz>=2017.3 in /usr/local/lib/python3.7/dist-packages (from pandas->watson-machine-learning-client) (2022.6)\n",
            "Requirement already satisfied: numpy>=1.17.3 in /usr/local/lib/python3.7/dist-packages (from pandas->watson-machine-learning-client) (1.21.6)\n",
            "Building wheels for collected packages: ibm-cos-sdk, ibm-cos-sdk-core, ibm-cos-sdk-s3transfer\n",
            "  Building wheel for ibm-cos-sdk (setup.py) ... \u001b[?25l\u001b[?25hdone\n",
            "  Created wheel for ibm-cos-sdk: filename=ibm_cos_sdk-2.12.0-py3-none-any.whl size=73931 sha256=fc409732fbd525d58e090983e422f686d696eb01687c66ac4e31a48fde788aed\n",
            "  Stored in directory: /root/.cache/pip/wheels/ec/94/29/2b57327cf00664b6614304f7958abd29d77ea0e5bbece2ea57\n",
            "  Building wheel for ibm-cos-sdk-core (setup.py) ... \u001b[?25l\u001b[?25hdone\n",
            "  Created wheel for ibm-cos-sdk-core: filename=ibm_cos_sdk_core-2.12.0-py3-none-any.whl size=562962 sha256=b421d7d1c77ca34517a53d39f67ebb28dfc3164a4da0b95057539bbd96017301\n",
            "  Stored in directory: /root/.cache/pip/wheels/64/56/fb/5cd6f4f40406c828a5289b95b2752a4d142a9afb359244ed8d\n",
            "  Building wheel for ibm-cos-sdk-s3transfer (setup.py) ... \u001b[?25l\u001b[?25hdone\n",
            "  Created wheel for ibm-cos-sdk-s3transfer: filename=ibm_cos_sdk_s3transfer-2.12.0-py3-none-any.whl size=89778 sha256=da943ef2365c05ea209cfdebb868969341aa836112fbfea013db468ecaad076d\n",
            "  Stored in directory: /root/.cache/pip/wheels/57/79/6a/ffe3370ed7ebc00604f9f76766e1e0348dcdcad2b2e32df9e1\n",
            "Successfully built ibm-cos-sdk ibm-cos-sdk-core ibm-cos-sdk-s3transfer\n",
            "Installing collected packages: urllib3, requests, jmespath, ibm-cos-sdk-core, botocore, s3transfer, ibm-cos-sdk-s3transfer, lomond, ibm-cos-sdk, boto3, watson-machine-learning-client\n",
            "  Attempting uninstall: urllib3\n",
            "    Found existing installation: urllib3 1.24.3\n",
            "    Uninstalling urllib3-1.24.3:\n",
            "      Successfully uninstalled urllib3-1.24.3\n",
            "  Attempting uninstall: requests\n",
            "    Found existing installation: requests 2.23.0\n",
            "    Uninstalling requests-2.23.0:\n",
            "      Successfully uninstalled requests-2.23.0\n",
            "Successfully installed boto3-1.26.12 botocore-1.29.12 ibm-cos-sdk-2.12.0 ibm-cos-sdk-core-2.12.0 ibm-cos-sdk-s3transfer-2.12.0 jmespath-0.10.0 lomond-0.3.3 requests-2.28.1 s3transfer-0.6.0 urllib3-1.26.12 watson-machine-learning-client-1.0.391\n"
          ]
        },
        {
          "output_type": "display_data",
          "data": {
            "application/vnd.colab-display-data+json": {
              "pip_warning": {
                "packages": [
                  "requests",
                  "urllib3"
                ]
              }
            }
          },
          "metadata": {}
        }
      ]
    },
    {
      "cell_type": "code",
      "source": [
        "# Testing the model"
      ],
      "metadata": {
        "id": "uheGj0uL6Gq7"
      },
      "execution_count": 43,
      "outputs": []
    },
    {
      "cell_type": "code",
      "source": [
        "from tensorflow.keras.models import load_model\n",
        "from keras.preprocessing import image\n",
        "from PIL import Image\n",
        "import numpy as np"
      ],
      "metadata": {
        "id": "6mTUkN_w6JLZ"
      },
      "execution_count": 44,
      "outputs": []
    },
    {
      "cell_type": "code",
      "source": [
        "model = load_model(\"ibm_mnistcnn.h5\")"
      ],
      "metadata": {
        "id": "2mdhwFV76MEp"
      },
      "execution_count": 45,
      "outputs": []
    },
    {
      "cell_type": "code",
      "source": [
        "# https://pypi.python.org/pypi/libarchive\n",
        "!apt-get -qq install -y libarchive-dev && pip install -U libarchive\n",
        "import libarchive"
      ],
      "metadata": {
        "id": "sQuSDet96bEg",
        "outputId": "07c348d3-bff7-47d0-848d-9fe64e3eef49",
        "colab": {
          "base_uri": "https://localhost:8080/"
        }
      },
      "execution_count": 47,
      "outputs": [
        {
          "output_type": "stream",
          "name": "stdout",
          "text": [
            "Selecting previously unselected package libarchive-dev:amd64.\n",
            "(Reading database ... 123991 files and directories currently installed.)\n",
            "Preparing to unpack .../libarchive-dev_3.2.2-3.1ubuntu0.7_amd64.deb ...\n",
            "Unpacking libarchive-dev:amd64 (3.2.2-3.1ubuntu0.7) ...\n",
            "Setting up libarchive-dev:amd64 (3.2.2-3.1ubuntu0.7) ...\n",
            "Processing triggers for man-db (2.8.3-2ubuntu0.1) ...\n",
            "Looking in indexes: https://pypi.org/simple, https://us-python.pkg.dev/colab-wheels/public/simple/\n",
            "Collecting libarchive\n",
            "  Downloading libarchive-0.4.7.tar.gz (23 kB)\n",
            "Collecting nose\n",
            "  Downloading nose-1.3.7-py3-none-any.whl (154 kB)\n",
            "\u001b[K     |████████████████████████████████| 154 kB 6.0 MB/s \n",
            "\u001b[?25hBuilding wheels for collected packages: libarchive\n",
            "  Building wheel for libarchive (setup.py) ... \u001b[?25l\u001b[?25hdone\n",
            "  Created wheel for libarchive: filename=libarchive-0.4.7-py3-none-any.whl size=31646 sha256=a754b94d3c6a2372c9c93d88c775d80aefc7287896505d16b3dbd855903de745\n",
            "  Stored in directory: /root/.cache/pip/wheels/63/b1/c6/b3da79bec2012175bd43603eed98ef8548ac1733b77c1d4330\n",
            "Successfully built libarchive\n",
            "Installing collected packages: nose, libarchive\n",
            "Successfully installed libarchive-0.4.7 nose-1.3.7\n"
          ]
        }
      ]
    },
    {
      "cell_type": "code",
      "source": [
        "# https://pypi.python.org/pypi/pydot\n",
        "!apt-get -qq install -y graphviz && pip install pydot\n",
        "import pydot"
      ],
      "metadata": {
        "id": "iSxJ_p7J6jcH",
        "outputId": "e3b545c6-04d4-471d-b2ee-5af9670a28be",
        "colab": {
          "base_uri": "https://localhost:8080/"
        }
      },
      "execution_count": 48,
      "outputs": [
        {
          "output_type": "stream",
          "name": "stdout",
          "text": [
            "Looking in indexes: https://pypi.org/simple, https://us-python.pkg.dev/colab-wheels/public/simple/\n",
            "Requirement already satisfied: pydot in /usr/local/lib/python3.7/dist-packages (1.3.0)\n",
            "Requirement already satisfied: pyparsing>=2.1.4 in /usr/local/lib/python3.7/dist-packages (from pydot) (3.0.9)\n"
          ]
        }
      ]
    },
    {
      "cell_type": "code",
      "source": [
        "\n",
        "!pip install cartopy\n",
        "import cartopy"
      ],
      "metadata": {
        "id": "GBdqC4mC6o5g",
        "outputId": "7c1695ce-8def-4e8e-cd09-038cd4058d05",
        "colab": {
          "base_uri": "https://localhost:8080/"
        }
      },
      "execution_count": 49,
      "outputs": [
        {
          "output_type": "stream",
          "name": "stdout",
          "text": [
            "Looking in indexes: https://pypi.org/simple, https://us-python.pkg.dev/colab-wheels/public/simple/\n",
            "Collecting cartopy\n",
            "  Downloading Cartopy-0.20.3.tar.gz (10.8 MB)\n",
            "\u001b[K     |████████████████████████████████| 10.8 MB 3.8 MB/s \n",
            "\u001b[?25h  Installing build dependencies ... \u001b[?25l\u001b[?25hdone\n",
            "  Getting requirements to build wheel ... \u001b[?25l\u001b[?25herror\n",
            "\u001b[33mWARNING: Discarding https://files.pythonhosted.org/packages/98/a9/0e4000eabadfcff6373c0fec790863b543b919cbfec18aed60d71ba67d5d/Cartopy-0.20.3.tar.gz#sha256=0d60fa2e2fbd77c4d1f6b1f9d3b588966147f07c1b179d2d34570ac1e1b49006 (from https://pypi.org/simple/cartopy/) (requires-python:>=3.7). Command errored out with exit status 1: /usr/bin/python3 /usr/local/lib/python3.7/dist-packages/pip/_vendor/pep517/in_process/_in_process.py get_requires_for_build_wheel /tmp/tmp7hukze4r Check the logs for full command output.\u001b[0m\n",
            "  Downloading Cartopy-0.20.2.tar.gz (10.8 MB)\n",
            "\u001b[K     |████████████████████████████████| 10.8 MB 36.6 MB/s \n",
            "\u001b[?25h  Installing build dependencies ... \u001b[?25l\u001b[?25hdone\n",
            "  Getting requirements to build wheel ... \u001b[?25l\u001b[?25herror\n",
            "\u001b[33mWARNING: Discarding https://files.pythonhosted.org/packages/f6/55/1e1c737dc9436b320deead73d1c455ddbb74b8b6992081863492f6f6378a/Cartopy-0.20.2.tar.gz#sha256=4d08c198ecaa50a6a6b109d0f14c070e813defc046a83ac5d7ab494f85599e35 (from https://pypi.org/simple/cartopy/) (requires-python:>=3.7). Command errored out with exit status 1: /usr/bin/python3 /usr/local/lib/python3.7/dist-packages/pip/_vendor/pep517/in_process/_in_process.py get_requires_for_build_wheel /tmp/tmpn6a_d_xr Check the logs for full command output.\u001b[0m\n",
            "  Downloading Cartopy-0.20.1.tar.gz (10.8 MB)\n",
            "\u001b[K     |████████████████████████████████| 10.8 MB 2.8 MB/s \n",
            "\u001b[?25h  Installing build dependencies ... \u001b[?25l\u001b[?25hdone\n",
            "  Getting requirements to build wheel ... \u001b[?25l\u001b[?25herror\n",
            "\u001b[33mWARNING: Discarding https://files.pythonhosted.org/packages/fc/59/aa52698e3838f4cd0e7eaa75bd86837e9e0b05041dbdaee3cda2fffced06/Cartopy-0.20.1.tar.gz#sha256=91f87b130e2574547a20cd634498df97d797abd12dcfd0235bc0cdbcec8b05e3 (from https://pypi.org/simple/cartopy/) (requires-python:>=3.7). Command errored out with exit status 1: /usr/bin/python3 /usr/local/lib/python3.7/dist-packages/pip/_vendor/pep517/in_process/_in_process.py get_requires_for_build_wheel /tmp/tmpf7q23pxo Check the logs for full command output.\u001b[0m\n",
            "  Downloading Cartopy-0.20.0.tar.gz (10.8 MB)\n",
            "\u001b[K     |████████████████████████████████| 10.8 MB 3.2 MB/s \n",
            "\u001b[?25h  Installing build dependencies ... \u001b[?25l\u001b[?25hdone\n",
            "  Getting requirements to build wheel ... \u001b[?25l\u001b[?25herror\n",
            "\u001b[33mWARNING: Discarding https://files.pythonhosted.org/packages/0f/c0/58453b036e79046d211f083880d58dcce787e7e07647ac25dc46c6555099/Cartopy-0.20.0.tar.gz#sha256=eae58aff26806e63cf115b2bce9477cedc4aa9f578c5e477b2c25cfa404f2b7a (from https://pypi.org/simple/cartopy/) (requires-python:>=3.7). Command errored out with exit status 1: /usr/bin/python3 /usr/local/lib/python3.7/dist-packages/pip/_vendor/pep517/in_process/_in_process.py get_requires_for_build_wheel /tmp/tmpa4s0673l Check the logs for full command output.\u001b[0m\n",
            "  Downloading Cartopy-0.19.0.post1.tar.gz (12.1 MB)\n",
            "\u001b[K     |████████████████████████████████| 12.1 MB 3.7 MB/s \n",
            "\u001b[?25h  Installing build dependencies ... \u001b[?25l\u001b[?25hdone\n",
            "  Getting requirements to build wheel ... \u001b[?25l\u001b[?25hdone\n",
            "    Preparing wheel metadata ... \u001b[?25l\u001b[?25hdone\n",
            "Requirement already satisfied: shapely>=1.5.6 in /usr/local/lib/python3.7/dist-packages (from cartopy) (1.8.5.post1)\n",
            "Requirement already satisfied: numpy>=1.13.3 in /usr/local/lib/python3.7/dist-packages (from cartopy) (1.21.6)\n",
            "Collecting pyshp>=2\n",
            "  Downloading pyshp-2.3.1-py2.py3-none-any.whl (46 kB)\n",
            "\u001b[K     |████████████████████████████████| 46 kB 3.2 MB/s \n",
            "\u001b[?25hBuilding wheels for collected packages: cartopy\n",
            "  Building wheel for cartopy (PEP 517) ... \u001b[?25l\u001b[?25hdone\n",
            "  Created wheel for cartopy: filename=Cartopy-0.19.0.post1-cp37-cp37m-linux_x86_64.whl size=12516312 sha256=3ec2759503de493dca21999ae7d66a7da64e2b9fa0145c3f336c7415c435a540\n",
            "  Stored in directory: /root/.cache/pip/wheels/98/01/f7/bd10aeb96fe4b518cde5f7c4f5e12c7202f85b7353a5017847\n",
            "Successfully built cartopy\n",
            "Installing collected packages: pyshp, cartopy\n",
            "Successfully installed cartopy-0.19.0.post1 pyshp-2.3.1\n"
          ]
        }
      ]
    }
  ]
}