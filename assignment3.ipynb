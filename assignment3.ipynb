{
  "cells": [
    {
      "cell_type": "markdown",
      "metadata": {
        "id": "view-in-github",
        "colab_type": "text"
      },
      "source": [
        "<a href=\"https://colab.research.google.com/github/IBM-EPBL/IBM-Project-25747-1659972090/blob/main/assignment3.ipynb\" target=\"_parent\"><img src=\"https://colab.research.google.com/assets/colab-badge.svg\" alt=\"Open In Colab\"/></a>"
      ]
    },
    {
      "cell_type": "code",
      "execution_count": null,
      "metadata": {
        "colab": {
          "base_uri": "https://localhost:8080/"
        },
        "id": "zgad5lEI4aRd",
        "outputId": "8bcd155c-cb7f-41d1-d59c-531ea025c4a5"
      },
      "outputs": [
        {
          "output_type": "stream",
          "name": "stdout",
          "text": [
            "Drive already mounted at /content/drive; to attempt to forcibly remount, call drive.mount(\"/content/drive\", force_remount=True).\n"
          ]
        }
      ],
      "source": [
        "from google.colab import drive\n",
        "drive.mount('/content/drive')\n"
      ]
    },
    {
      "cell_type": "code",
      "execution_count": null,
      "metadata": {
        "colab": {
          "base_uri": "https://localhost:8080/"
        },
        "id": "-SPJ2tp4KEKH",
        "outputId": "90b2a6e2-c1fd-4afe-ba0d-7e168c943609"
      },
      "outputs": [
        {
          "output_type": "stream",
          "name": "stdout",
          "text": [
            "/content/drive/MyDrive\n"
          ]
        }
      ],
      "source": [
        "cd /content/drive/MyDrive"
      ]
    },
    {
      "cell_type": "code",
      "execution_count": null,
      "metadata": {
        "colab": {
          "base_uri": "https://localhost:8080/"
        },
        "id": "a3oFyG61PDVQ",
        "outputId": "296707b3-4d6f-4801-8aab-73af4d8273e7"
      },
      "outputs": [
        {
          "output_type": "stream",
          "name": "stdout",
          "text": [
            "\u001b[0m\u001b[01;34m'Colab Notebooks'\u001b[0m/   \u001b[01;34mflowers\u001b[0m/           Flowers-Dataset.zip\n",
            " flower.h5           \u001b[01;34mFlowers-Dataset\u001b[0m/\n"
          ]
        }
      ],
      "source": [
        "ls"
      ]
    },
    {
      "cell_type": "code",
      "execution_count": null,
      "metadata": {
        "colab": {
          "base_uri": "https://localhost:8080/",
          "height": 36
        },
        "id": "vq81kjQCPaKv",
        "outputId": "1b61e465-be21-4919-c7b2-7dff69162d9c"
      },
      "outputs": [
        {
          "output_type": "execute_result",
          "data": {
            "text/plain": [
              "'/content/drive/MyDrive'"
            ],
            "application/vnd.google.colaboratory.intrinsic+json": {
              "type": "string"
            }
          },
          "metadata": {},
          "execution_count": 4
        }
      ],
      "source": [
        "pwd"
      ]
    },
    {
      "cell_type": "code",
      "execution_count": null,
      "metadata": {
        "colab": {
          "base_uri": "https://localhost:8080/"
        },
        "id": "ARUDdBtEPlHi",
        "outputId": "77f9143b-8658-4616-9abe-c6240e9f1561"
      },
      "outputs": [
        {
          "output_type": "stream",
          "name": "stdout",
          "text": [
            "Archive:  Flowers-Dataset.zip\n",
            "replace flowers/daisy/100080576_f52e8ee070_n.jpg? [y]es, [n]o, [A]ll, [N]one, [r]ename: "
          ]
        }
      ],
      "source": [
        "!unzip Flowers-Dataset.zip"
      ]
    },
    {
      "cell_type": "code",
      "execution_count": null,
      "metadata": {
        "id": "-kdxYIVEPzbe"
      },
      "outputs": [],
      "source": [
        "from tensorflow.keras.preprocessing.image import ImageDataGenerator"
      ]
    },
    {
      "cell_type": "code",
      "execution_count": null,
      "metadata": {
        "id": "5We_6q3fQCKQ"
      },
      "outputs": [],
      "source": [
        "train_data=ImageDataGenerator(rescale=1./255,horizontal_flip=True,vertical_flip=True,zoom_range=0.2)"
      ]
    },
    {
      "cell_type": "code",
      "execution_count": null,
      "metadata": {
        "id": "QJefb2v3QHkg"
      },
      "outputs": [],
      "source": [
        "test_data=ImageDataGenerator(rescale=1./255)"
      ]
    },
    {
      "cell_type": "code",
      "execution_count": null,
      "metadata": {
        "colab": {
          "base_uri": "https://localhost:8080/"
        },
        "id": "ZZx45xvMQIE0",
        "outputId": "09fb1fe2-5bdb-442d-97d0-c026aac02a00"
      },
      "outputs": [
        {
          "output_type": "stream",
          "name": "stdout",
          "text": [
            "Found 3334 images belonging to 5 classes.\n"
          ]
        }
      ],
      "source": [
        "x_train=train_data.flow_from_directory(\"/content/drive/MyDrive/flowers\",target_size=(64,64),class_mode=\"categorical\",batch_size=24)"
      ]
    },
    {
      "cell_type": "code",
      "execution_count": null,
      "metadata": {
        "colab": {
          "base_uri": "https://localhost:8080/"
        },
        "id": "cFEcSlctQMp-",
        "outputId": "0f1d8cb6-faf3-4df5-8440-4cb0a1c9e858"
      },
      "outputs": [
        {
          "output_type": "stream",
          "name": "stdout",
          "text": [
            "Found 3334 images belonging to 5 classes.\n"
          ]
        }
      ],
      "source": [
        "x_test=test_data.flow_from_directory(\"/content/drive/MyDrive/flowers\",target_size=(64,64),class_mode=\"categorical\",batch_size=24)"
      ]
    },
    {
      "cell_type": "code",
      "execution_count": null,
      "metadata": {
        "id": "6I7WUDuZQhTU"
      },
      "outputs": [],
      "source": [
        "from tensorflow.keras.models import Sequential\n",
        "from tensorflow.keras.layers import Convolution2D,MaxPooling2D,Flatten,Dense"
      ]
    },
    {
      "cell_type": "code",
      "execution_count": null,
      "metadata": {
        "id": "yuTZm9BhQkSZ"
      },
      "outputs": [],
      "source": [
        "model=Sequential()"
      ]
    },
    {
      "cell_type": "code",
      "execution_count": null,
      "metadata": {
        "id": "bCgMNqNKQnlR"
      },
      "outputs": [],
      "source": [
        "model.add(Convolution2D(32,(3,3),activation=\"relu\",input_shape=(64,64,3)))"
      ]
    },
    {
      "cell_type": "code",
      "execution_count": null,
      "metadata": {
        "id": "Q7EpHld5Qo0M"
      },
      "outputs": [],
      "source": [
        "model.add(MaxPooling2D(pool_size=(2,2)))"
      ]
    },
    {
      "cell_type": "code",
      "execution_count": null,
      "metadata": {
        "id": "wS6QAfHzQo8X"
      },
      "outputs": [],
      "source": [
        "model.add(Flatten())"
      ]
    },
    {
      "cell_type": "code",
      "execution_count": null,
      "metadata": {
        "id": "o2CwjmgtQwse"
      },
      "outputs": [],
      "source": [
        "model.add(Dense(300,activation ='relu'))"
      ]
    },
    {
      "cell_type": "code",
      "execution_count": null,
      "metadata": {
        "id": "UPtpzyjYQ2N5"
      },
      "outputs": [],
      "source": [
        "model.add(Dense(5,activation=\"softmax\"))"
      ]
    },
    {
      "cell_type": "code",
      "execution_count": null,
      "metadata": {
        "id": "WHz8dgyhQ35z"
      },
      "outputs": [],
      "source": []
    },
    {
      "cell_type": "code",
      "execution_count": null,
      "metadata": {
        "id": "IhxA7_ioQ4Ef"
      },
      "outputs": [],
      "source": [
        "model.compile(loss=\"categorical_crossentropy\",metrics=[\"accuracy\"],optimizer='adam')"
      ]
    },
    {
      "cell_type": "code",
      "execution_count": null,
      "metadata": {
        "colab": {
          "base_uri": "https://localhost:8080/"
        },
        "id": "EU5jLdnVQ_Mz",
        "outputId": "2617e1ab-1dce-4572-a1e9-542938d259ec"
      },
      "outputs": [
        {
          "output_type": "execute_result",
          "data": {
            "text/plain": [
              "139"
            ]
          },
          "metadata": {},
          "execution_count": 68
        }
      ],
      "source": [
        "len(x_train)"
      ]
    },
    {
      "cell_type": "code",
      "execution_count": null,
      "metadata": {
        "colab": {
          "base_uri": "https://localhost:8080/"
        },
        "id": "bzgrnh33RAhB",
        "outputId": "e3141f78-5417-4b01-d64e-862c49a5faa4"
      },
      "outputs": [
        {
          "output_type": "stream",
          "name": "stdout",
          "text": [
            "Epoch 1/5\n",
            "139/139 [==============================] - 525s 4s/step - loss: 1.2061 - accuracy: 0.5420 - val_loss: 0.8945 - val_accuracy: 0.6728\n",
            "Epoch 2/5\n",
            "139/139 [==============================] - 75s 539ms/step - loss: 0.8689 - accuracy: 0.6602 - val_loss: 0.7631 - val_accuracy: 0.6977\n",
            "Epoch 3/5\n",
            "139/139 [==============================] - 75s 541ms/step - loss: 0.7942 - accuracy: 0.6878 - val_loss: 0.7216 - val_accuracy: 0.7178\n",
            "Epoch 4/5\n",
            "139/139 [==============================] - 74s 533ms/step - loss: 0.7542 - accuracy: 0.7133 - val_loss: 0.6758 - val_accuracy: 0.7448\n",
            "Epoch 5/5\n",
            "139/139 [==============================] - 76s 546ms/step - loss: 0.7015 - accuracy: 0.7373 - val_loss: 0.7166 - val_accuracy: 0.7223\n"
          ]
        },
        {
          "output_type": "execute_result",
          "data": {
            "text/plain": [
              "<keras.callbacks.History at 0x7f04546b2150>"
            ]
          },
          "metadata": {},
          "execution_count": 24
        }
      ],
      "source": [
        "model.fit(x_train,epochs=5,validation_data=x_test,steps_per_epoch= len(x_train),validation_steps=len(x_test))"
      ]
    },
    {
      "cell_type": "code",
      "execution_count": null,
      "metadata": {
        "id": "zUtI8C8YRETl"
      },
      "outputs": [],
      "source": [
        "model.save(\"flower.h5\")"
      ]
    },
    {
      "cell_type": "code",
      "source": [
        "from tensorflow.keras.models import load_model\n",
        "from tensorflow.keras.preprocessing import image\n",
        "import numpy as np"
      ],
      "metadata": {
        "id": "nTrhlgM1jI8f"
      },
      "execution_count": null,
      "outputs": []
    },
    {
      "cell_type": "code",
      "source": [
        "model=load_model(\"/content/drive/MyDrive/flower.h5\")"
      ],
      "metadata": {
        "id": "xwxSUAV6jYFq"
      },
      "execution_count": null,
      "outputs": []
    },
    {
      "cell_type": "code",
      "source": [
        "img=image.load_img(\"/content/drive/MyDrive/flowers/rose/1485142251_ca89254442.jpg\",target_size=(64,64))"
      ],
      "metadata": {
        "id": "yhUsLx67j2jI"
      },
      "execution_count": null,
      "outputs": []
    },
    {
      "cell_type": "markdown",
      "source": [],
      "metadata": {
        "id": "Vz_fLkWemPgJ"
      }
    },
    {
      "cell_type": "code",
      "source": [
        "img"
      ],
      "metadata": {
        "colab": {
          "base_uri": "https://localhost:8080/",
          "height": 81
        },
        "id": "_HkU4OGAkCMy",
        "outputId": "a523be15-87d9-4b5d-a60e-6a4edbd2be7e"
      },
      "execution_count": null,
      "outputs": [
        {
          "output_type": "execute_result",
          "data": {
            "text/plain": [
              "<PIL.Image.Image image mode=RGB size=64x64 at 0x7F04516C2110>"
            ],
            "image/png": "[encoded data removed]"
          },
          "metadata": {},
          "execution_count": 86
        }
      ]
    },
    {
      "cell_type": "code",
      "source": [
        "x=image.img_to_array(img)"
      ],
      "metadata": {
        "id": "LTcFpkX3kbsF"
      },
      "execution_count": null,
      "outputs": []
    },
    {
      "cell_type": "code",
      "source": [
        "x"
      ],
      "metadata": {
        "colab": {
          "base_uri": "https://localhost:8080/"
        },
        "id": "SBB9bfIWkg_C",
        "outputId": "622ae168-bb71-45f3-f7de-046a4f20769d"
      },
      "execution_count": null,
      "outputs": [
        {
          "output_type": "execute_result",
          "data": {
            "text/plain": [
              "array([[[ 18.,   8.,   9.],\n",
              "        [ 17.,   9.,   7.],\n",
              "        [ 17.,   9.,   7.],\n",
              "        ...,\n",
              "        [ 24.,  15.,   6.],\n",
              "        [ 34.,  20.,  11.],\n",
              "        [ 13.,  10.,   5.]],\n",
              "\n",
              "       [[ 19.,   9.,   8.],\n",
              "        [ 21.,   9.,   9.],\n",
              "        [ 19.,  11.,   9.],\n",
              "        ...,\n",
              "        [ 22.,  16.,   4.],\n",
              "        [ 37.,  24.,  15.],\n",
              "        [  9.,   8.,   4.]],\n",
              "\n",
              "       [[ 21.,  11.,  10.],\n",
              "        [ 17.,   9.,   7.],\n",
              "        [ 15.,  10.,   7.],\n",
              "        ...,\n",
              "        [ 20.,  13.,   5.],\n",
              "        [ 34.,  24.,  15.],\n",
              "        [  6.,   6.,   6.]],\n",
              "\n",
              "       ...,\n",
              "\n",
              "       [[ 72.,   6.,   7.],\n",
              "        [ 55.,   5.,   4.],\n",
              "        [ 83.,   5.,   5.],\n",
              "        ...,\n",
              "        [241.,  42.,  23.],\n",
              "        [230.,  23.,  13.],\n",
              "        [251.,  36.,  15.]],\n",
              "\n",
              "       [[100.,   6.,   7.],\n",
              "        [ 92.,   8.,   6.],\n",
              "        [ 74.,   4.,   4.],\n",
              "        ...,\n",
              "        [238.,  35.,  18.],\n",
              "        [239.,  28.,  11.],\n",
              "        [252.,  42.,  19.]],\n",
              "\n",
              "       [[115.,   7.,   7.],\n",
              "        [ 70.,   8.,   9.],\n",
              "        [ 85.,  12.,   6.],\n",
              "        ...,\n",
              "        [244.,  38.,  14.],\n",
              "        [247.,  39.,  11.],\n",
              "        [252.,  46.,  22.]]], dtype=float32)"
            ]
          },
          "metadata": {},
          "execution_count": 88
        }
      ]
    },
    {
      "cell_type": "code",
      "source": [
        "x.ndim"
      ],
      "metadata": {
        "colab": {
          "base_uri": "https://localhost:8080/"
        },
        "id": "05tqlXENklP7",
        "outputId": "5281bdde-ac4d-40f4-914a-cd27c699d5c2"
      },
      "execution_count": null,
      "outputs": [
        {
          "output_type": "execute_result",
          "data": {
            "text/plain": [
              "3"
            ]
          },
          "metadata": {},
          "execution_count": 89
        }
      ]
    },
    {
      "cell_type": "code",
      "source": [
        "x=np.expand_dims(x,axis=0)"
      ],
      "metadata": {
        "id": "R_CypVDOkqJk"
      },
      "execution_count": null,
      "outputs": []
    },
    {
      "cell_type": "code",
      "source": [
        "x.ndim"
      ],
      "metadata": {
        "colab": {
          "base_uri": "https://localhost:8080/"
        },
        "id": "6tXyE6zVkuWl",
        "outputId": "dac1d2d7-f4fa-42a7-c4d9-5ecee1b89642"
      },
      "execution_count": null,
      "outputs": [
        {
          "output_type": "execute_result",
          "data": {
            "text/plain": [
              "4"
            ]
          },
          "metadata": {},
          "execution_count": 91
        }
      ]
    },
    {
      "cell_type": "code",
      "source": [
        "pred=model.predict(x)"
      ],
      "metadata": {
        "id": "ZmogjqaWl9Ap"
      },
      "execution_count": null,
      "outputs": []
    },
    {
      "cell_type": "code",
      "source": [
        "pred"
      ],
      "metadata": {
        "colab": {
          "base_uri": "https://localhost:8080/"
        },
        "id": "eM8oUpqAmmSu",
        "outputId": "875ff77b-0391-4dee-9621-0cd640b108dc"
      },
      "execution_count": null,
      "outputs": [
        {
          "output_type": "execute_result",
          "data": {
            "text/plain": [
              "array([[0., 0., 1., 0., 0.]], dtype=float32)"
            ]
          },
          "metadata": {},
          "execution_count": 93
        }
      ]
    },
    {
      "cell_type": "code",
      "source": [
        "label=[\"daisy\",\"dandelion\",\"rose\",\"sunflower\",\"tulip\"]"
      ],
      "metadata": {
        "id": "bFdz_nkkmp4c"
      },
      "execution_count": null,
      "outputs": []
    },
    {
      "cell_type": "code",
      "source": [
        "label[np.argmax(pred)]"
      ],
      "metadata": {
        "colab": {
          "base_uri": "https://localhost:8080/",
          "height": 36
        },
        "id": "a1dgMeTem7p7",
        "outputId": "bd242c85-a64d-4862-9bc0-98d83fb7afd3"
      },
      "execution_count": null,
      "outputs": [
        {
          "output_type": "execute_result",
          "data": {
            "text/plain": [
              "'rose'"
            ],
            "application/vnd.google.colaboratory.intrinsic+json": {
              "type": "string"
            }
          },
          "metadata": {},
          "execution_count": 95
        }
      ]
    }
  ],
  "metadata": {
    "colab": {
      "provenance": [],
      "collapsed_sections": [],
      "mount_file_id": "1oP227-ullQPA2L6sZKM5MXTWSVsj8UUh",
      "authorship_tag": "ABX9TyMY1zXW1uLDyKSgITNGTVdK",
      "include_colab_link": true
    },
    "kernelspec": {
      "display_name": "Python 3",
      "name": "python3"
    },
    "language_info": {
      "name": "python"
    }
  },
  "nbformat": 4,
  "nbformat_minor": 0
}